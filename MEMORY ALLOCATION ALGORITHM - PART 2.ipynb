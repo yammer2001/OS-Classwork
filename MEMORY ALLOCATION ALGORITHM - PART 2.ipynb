{
 "cells": [
  {
   "cell_type": "markdown",
   "metadata": {},
   "source": [
    "## WORST FIT"
   ]
  },
  {
   "cell_type": "code",
   "execution_count": 1,
   "metadata": {},
   "outputs": [],
   "source": [
    "def WorstFit(blockSize, m, processSize, n): \n",
    " \n",
    "    allocation = [-1] * n \n",
    "    \n",
    "    for i in range(n):  \n",
    "        worstIdx = -1\n",
    "        for j in range(m): \n",
    "            if blockSize[j] >= processSize[i]: \n",
    "                if worstIdx == -1:  \n",
    "                    worstIdx = j  \n",
    "                elif blockSize[worstIdx] < blockSize[j]:  \n",
    "                    worstIdx = j \n",
    "                    \n",
    "        if worstIdx != -1:         \n",
    "\n",
    "            allocation[i] = worstIdx    \n",
    "            blockSize[worstIdx] -= processSize[i] \n",
    "            \n",
    "    for i in range(n):\n",
    "        print(allocation[i] + 1)"
   ]
  },
  {
   "cell_type": "code",
   "execution_count": 2,
   "metadata": {},
   "outputs": [
    {
     "name": "stdout",
     "output_type": "stream",
     "text": [
      "5\n",
      "2\n",
      "5\n",
      "0\n"
     ]
    }
   ],
   "source": [
    "blockSize = [100, 500, 200, 300 , 600]  \n",
    "processSize = [212, 417, 112, 426] \n",
    "m = len(blockSize) \n",
    "n = len(processSize)   \n",
    "WorstFit(blockSize, m, processSize, n) "
   ]
  },
  {
   "cell_type": "markdown",
   "metadata": {},
   "source": [
    "## NEXT FIT"
   ]
  },
  {
   "cell_type": "code",
   "execution_count": 3,
   "metadata": {},
   "outputs": [],
   "source": [
    "def NextFit(blockSize, m, processSize, n): \n",
    "  \n",
    "    allocation = [-1] * n  \n",
    "    j = 0\n",
    "  \n",
    "    for i in range(n): \n",
    "        while j < m: \n",
    "  \n",
    "            if blockSize[j] >= processSize[i]:  \n",
    "                allocation[i] = j  \n",
    "  \n",
    "                blockSize[j] -= processSize[i]  \n",
    "  \n",
    "                break \n",
    "            j = (j + 1) % m \n",
    "    for i in range(n):\n",
    "        print(allocation[i] + 1)"
   ]
  },
  {
   "cell_type": "code",
   "execution_count": 4,
   "metadata": {},
   "outputs": [
    {
     "name": "stdout",
     "output_type": "stream",
     "text": [
      "1\n",
      "3\n",
      "3\n"
     ]
    }
   ],
   "source": [
    "blockSize = [20 , 10 , 30]  \n",
    "processSize = [10 , 20 , 5] \n",
    "m = len(blockSize) \n",
    "n = len(processSize)   \n",
    "NextFit(blockSize, m, processSize, n) "
   ]
  },
  {
   "cell_type": "code",
   "execution_count": null,
   "metadata": {},
   "outputs": [],
   "source": []
  }
 ],
 "metadata": {
  "kernelspec": {
   "display_name": "Python 3",
   "language": "python",
   "name": "python3"
  },
  "language_info": {
   "codemirror_mode": {
    "name": "ipython",
    "version": 3
   },
   "file_extension": ".py",
   "mimetype": "text/x-python",
   "name": "python",
   "nbconvert_exporter": "python",
   "pygments_lexer": "ipython3",
   "version": "3.7.4"
  }
 },
 "nbformat": 4,
 "nbformat_minor": 2
}

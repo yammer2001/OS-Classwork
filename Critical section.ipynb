{
 "cells": [
  {
   "cell_type": "code",
   "execution_count": 5,
   "metadata": {},
   "outputs": [
    {
     "name": "stdout",
     "output_type": "stream",
     "text": [
      "Entry Section 1\n",
      " Entered Critical Section!. Perform operation on shared resource\n",
      "Critical Section over for process 1\n",
      "Entry Section-2\n",
      " Entered Critical Section!. Perform operation on shared resource\n",
      "Critical Section over for process 2\n",
      "Entry Section-2Entry Section 1\n",
      " Entered Critical Section!. Perform operation on shared resource\n",
      "Critical Section over for process 1\n",
      "\n",
      " Entered Critical Section!. Perform operation on shared resource\n",
      "Critical Section over for process 2\n",
      "Entry Section 1Entry Section-2\n",
      " Entered Critical Section!. Perform operation on shared resource\n",
      "\n",
      "Critical Section over for process 2\n",
      " Entered Critical Section!. Perform operation on shared resource\n",
      "Critical Section over for process 1\n",
      "Entry Section-2Entry Section 1\n",
      " Entered Critical Section!. Perform operation on shared resource\n",
      "Critical Section over for process 1\n",
      "\n",
      " Entered Critical Section!. Perform operation on shared resource\n",
      "Critical Section over for process 2\n",
      "Entry Section-2Entry Section 1\n",
      " Entered Critical Section!. Perform operation on shared resource\n",
      "Critical Section over for process 1\n",
      "\n",
      " Entered Critical Section!. Perform operation on shared resource\n",
      "Critical Section over for process 2\n",
      "Entry Section-2Entry Section 1\n",
      " Entered Critical Section!. Perform operation on shared resource\n",
      "Critical Section over for process 1\n",
      "\n",
      " Entered Critical Section!. Perform operation on shared resource\n",
      "Critical Section over for process 2\n",
      "Entry Section-2Entry Section 1\n",
      " Entered Critical Section!. Perform operation on shared resource\n",
      "Critical Section over for process 1\n",
      "\n",
      " Entered Critical Section!. Perform operation on shared resource\n",
      "Critical Section over for process 2\n"
     ]
    }
   ],
   "source": [
    "import threading\n",
    "import time\n",
    "\n",
    "class CricticalSection():\n",
    "    def __init__(self):\n",
    "        self.sem = threading.Semaphore()  #initializing semaphore using Semaphore class in threading module\n",
    "\n",
    "    def process_1(self):\n",
    "        while True:\n",
    "            print(\"Entry Section 1\")\n",
    "            self.sem.acquire()      #decrement the value of semahpore\n",
    "\n",
    "            self.criticalsection()  #entering crictical section(process 1)\n",
    "            self.sem.release()      #incrementing the value of semaphore hence allowing\n",
    "            print(\"Critical Section over for process 1\") #remainder section of the \n",
    "            time.sleep(3)           #allowing some delay in the process \n",
    "\n",
    "    def process_2(self):\n",
    "        while True:\n",
    "            print(\"Entry Section-2\")\n",
    "            self.sem.acquire()      #decrement the value of semahpore\n",
    "\n",
    "            self.criticalsection()  #entering crictical section (process 2)\n",
    "            self.sem.release()      #incrementing the value of semaphore hence allowing\n",
    "\n",
    "            print(\"Critical Section over for process 2\")    #remainder section of the \n",
    "            time.sleep(3)    #allowing some delay in the process \n",
    "\n",
    "    def criticalsection(self):\n",
    "        print(\" Entered Critical Section!. Perform operation on shared resource\")\n",
    "\n",
    "    def main(self):\n",
    "        t1 = threading.Thread(target = self.process_1) #calling process 1\n",
    "        t1.start()\n",
    "        t2 = threading.Thread(target = self.process_2) #calling  process 2\n",
    "        t2.start()\n",
    "\n",
    "if __name__==\"__main__\":\n",
    "    c = CricticalSection()\n",
    "    c.main()"
   ]
  },
  {
   "cell_type": "code",
   "execution_count": null,
   "metadata": {},
   "outputs": [],
   "source": []
  }
 ],
 "metadata": {
  "kernelspec": {
   "display_name": "Python 3",
   "language": "python",
   "name": "python3"
  },
  "language_info": {
   "codemirror_mode": {
    "name": "ipython",
    "version": 3
   },
   "file_extension": ".py",
   "mimetype": "text/x-python",
   "name": "python",
   "nbconvert_exporter": "python",
   "pygments_lexer": "ipython3",
   "version": "3.7.4"
  }
 },
 "nbformat": 4,
 "nbformat_minor": 2
}

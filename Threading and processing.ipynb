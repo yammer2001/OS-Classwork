{
 "cells": [
  {
   "cell_type": "code",
   "execution_count": 4,
   "metadata": {},
   "outputs": [],
   "source": [
    "import numpy as np\n",
    "import matplotlib.pyplot as plt\n",
    "import time\n",
    "from urllib.request import urlopen\n",
    "from concurrent.futures import ProcessPoolExecutor , ThreadPoolExecutor"
   ]
  },
  {
   "cell_type": "code",
   "execution_count": 5,
   "metadata": {},
   "outputs": [
    {
     "name": "stdout",
     "output_type": "stream",
     "text": [
      "1 Thread.jpg\n"
     ]
    },
    {
     "data": {
      "image/png": "[encoded data removed]",
      "text/plain": [
       "<Figure size 432x288 with 1 Axes>"
      ]
     },
     "metadata": {
      "needs_background": "light"
     },
     "output_type": "display_data"
    },
    {
     "name": "stdout",
     "output_type": "stream",
     "text": [
      "2 Thread.jpg\n"
     ]
    },
    {
     "data": {
      "image/png": "[encoded data removed]",
      "text/plain": [
       "<Figure size 432x288 with 1 Axes>"
      ]
     },
     "metadata": {
      "needs_background": "light"
     },
     "output_type": "display_data"
    },
    {
     "data": {
      "text/plain": [
       "2.3222815990448"
      ]
     },
     "execution_count": 5,
     "metadata": {},
     "output_type": "execute_result"
    }
   ],
   "source": [
    "def download(url , base):\n",
    "    start = time.time() - base\n",
    "    try:\n",
    "        resp = urlopen(url)\n",
    "    except Exception as e :\n",
    "        print('ERROR : %s' % e)\n",
    "    stop = time.time() - base\n",
    "    return start , stop\n",
    "\n",
    "def multithreading(func , args , workers):\n",
    "    begin_time = time.time()\n",
    "    with ThreadPoolExecutor(max_workers = workers) as executor:\n",
    "        res = executor.map(func , args , [begin_time for i in range(len(args))])\n",
    "    return list(res)\n",
    "\n",
    "def multiprocessing(func , args , workers):\n",
    "    begin_time = time.time()\n",
    "    with ProcessPoolExecutor(max_workers = workers) as executor:\n",
    "        res = executor.map(func , args , [begin_time for i in range(len(args))])\n",
    "    return list(res)\n",
    "\n",
    "def visualize_runtimes(results , title):\n",
    "    start , stop = np.array(results).T\n",
    "    plt.barh(range(len(start)) , stop - start , left = start)\n",
    "    plt.grid(axis = 'x')\n",
    "    plt.ylabel('Tasks')\n",
    "    plt.xlabel('Seconds')\n",
    "    plt.title(title)\n",
    "    name = title + \".jpg\"\n",
    "    plt.savefig(name , dpi = 300)\n",
    "    print(name)\n",
    "    plt.show()\n",
    "    return stop[-1] - start[0]\n",
    "\n",
    "N = 4\n",
    "URL = 'http://www.pdf995.com/samples/pdf.pdf'\n",
    "urls = [URL for i in range (N)]\n",
    "\n",
    "#if __name__ == '__main__':\n",
    "visualize_runtimes(multithreading(download , urls , 1) , \"1 Thread\")\n",
    "visualize_runtimes(multithreading(download , urls , 2) , \"2 Thread\")"
   ]
  },
  {
   "cell_type": "code",
   "execution_count": null,
   "metadata": {},
   "outputs": [],
   "source": [
    "visualize_runtimes(multiprocessing(download , urls , 1) , \"1 Process\")\n",
    "visualize_runtimes(multiprocessing(download , urls , 2) , \"2 Process\")"
   ]
  },
  {
   "cell_type": "code",
   "execution_count": null,
   "metadata": {},
   "outputs": [],
   "source": []
  }
 ],
 "metadata": {
  "kernelspec": {
   "display_name": "Python 3",
   "language": "python",
   "name": "python3"
  },
  "language_info": {
   "codemirror_mode": {
    "name": "ipython",
    "version": 3
   },
   "file_extension": ".py",
   "mimetype": "text/x-python",
   "name": "python",
   "nbconvert_exporter": "python",
   "pygments_lexer": "ipython3",
   "version": "3.7.4"
  }
 },
 "nbformat": 4,
 "nbformat_minor": 2
}

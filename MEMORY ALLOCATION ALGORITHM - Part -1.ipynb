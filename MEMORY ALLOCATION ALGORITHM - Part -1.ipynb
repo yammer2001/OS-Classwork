{
 "cells": [
  {
   "cell_type": "markdown",
   "metadata": {},
   "source": [
    "#  First Fit"
   ]
  },
  {
   "cell_type": "code",
   "execution_count": 10,
   "metadata": {},
   "outputs": [],
   "source": [
    "def firstFit(blockSize, m, processSize, n): \n",
    "      \n",
    "    # Stores block id of the  \n",
    "    # block allocated to a process  \n",
    "    allocation = [-1] * n   \n",
    "    for i in range(n): \n",
    "        for j in range(m): \n",
    "            if blockSize[j] >= processSize[i]: \n",
    "                  \n",
    "                # allocate block j to p[i] process  \n",
    "                allocation[i] = j  \n",
    "  \n",
    "                # Reduce available memory in this block.  \n",
    "                blockSize[j] -= processSize[i]  \n",
    "  \n",
    "                break\n",
    "    \n",
    "    ## PRINTING THE OUTPUT\n",
    "  \n",
    "    print(\" Process No. Process Size      Block no.\") \n",
    "    for i in range(n): \n",
    "        print(\" \", i + 1, \"         \", processSize[i],  \n",
    "                          \"         \", end = \" \")  \n",
    "        if allocation[i] != -1:  \n",
    "            print(allocation[i] + 1)  \n",
    "        else: \n",
    "            print(\"Not Allocated\") "
   ]
  },
  {
   "cell_type": "code",
   "execution_count": 11,
   "metadata": {},
   "outputs": [
    {
     "name": "stdout",
     "output_type": "stream",
     "text": [
      " Process No. Process Size      Block no.\n",
      "  1           212           2\n",
      "  2           417           5\n",
      "  3           112           2\n",
      "  4           426           Not Allocated\n"
     ]
    }
   ],
   "source": [
    "blockSize = [100, 500, 200, 300 , 600]  \n",
    "processSize = [212, 417, 112, 426] \n",
    "m = len(blockSize) \n",
    "n = len(processSize)   \n",
    "firstFit(blockSize, m, processSize, n) "
   ]
  },
  {
   "cell_type": "markdown",
   "metadata": {},
   "source": [
    "# Alternative printing"
   ]
  },
  {
   "cell_type": "code",
   "execution_count": 14,
   "metadata": {},
   "outputs": [],
   "source": [
    "def firstFit(blockSize, m, processSize, n): \n",
    "      \n",
    "    # Stores block id of the  \n",
    "    # block allocated to a process  \n",
    "    allocation = [-1] * n   \n",
    "    for i in range(n): \n",
    "        for j in range(m): \n",
    "            if blockSize[j] >= processSize[i]: \n",
    "                  \n",
    "                # allocate block j to p[i] process  \n",
    "                allocation[i] = j  \n",
    "  \n",
    "                # Reduce available memory in this block.  \n",
    "                blockSize[j] -= processSize[i]  \n",
    "  \n",
    "                break\n",
    "    for i in range(n):\n",
    "        print(allocation[i] + 1)"
   ]
  },
  {
   "cell_type": "code",
   "execution_count": 16,
   "metadata": {},
   "outputs": [
    {
     "name": "stdout",
     "output_type": "stream",
     "text": [
      "2\n",
      "5\n",
      "2\n",
      "0\n"
     ]
    }
   ],
   "source": [
    "# 0 signifies NOT ALLOCATED\n",
    "\n",
    "blockSize = [100, 500, 200, 300 , 600]  \n",
    "processSize = [212, 417, 112, 426] \n",
    "m = len(blockSize) \n",
    "n = len(processSize)   \n",
    "firstFit(blockSize, m, processSize, n) "
   ]
  },
  {
   "cell_type": "markdown",
   "metadata": {},
   "source": [
    "# Best Fit"
   ]
  },
  {
   "cell_type": "code",
   "execution_count": 18,
   "metadata": {},
   "outputs": [],
   "source": [
    "def bestFit(blockSize, m, processSize, n): \n",
    "      \n",
    "    # Stores block id of the block  \n",
    "    # allocated to a process  \n",
    "    allocation = [-1] * n \n",
    "    \n",
    "    for i in range(n):  \n",
    "        bestIdx = -1\n",
    "        for j in range(m): \n",
    "            if blockSize[j] >= processSize[i]: \n",
    "                if bestIdx == -1:  \n",
    "                    bestIdx = j  \n",
    "                elif blockSize[bestIdx] > blockSize[j]:  \n",
    "                    bestIdx = j \n",
    "                    \n",
    "        if bestIdx != -1:         \n",
    "            # allocate block j to p[i] process  \n",
    "            allocation[i] = bestIdx  \n",
    "            # Reduce available memory in this block.  \n",
    "            blockSize[bestIdx] -= processSize[i] \n",
    "            \n",
    "    for i in range(n):\n",
    "        print(allocation[i] + 1)"
   ]
  },
  {
   "cell_type": "code",
   "execution_count": 20,
   "metadata": {},
   "outputs": [
    {
     "name": "stdout",
     "output_type": "stream",
     "text": [
      "4\n",
      "2\n",
      "3\n",
      "5\n"
     ]
    }
   ],
   "source": [
    "blockSize = [100, 500, 200, 300 , 600]  \n",
    "processSize = [212, 417, 112, 426] \n",
    "m = len(blockSize) \n",
    "n = len(processSize)   \n",
    "bestFit(blockSize, m, processSize, n) "
   ]
  },
  {
   "cell_type": "code",
   "execution_count": null,
   "metadata": {},
   "outputs": [],
   "source": []
  }
 ],
 "metadata": {
  "kernelspec": {
   "display_name": "Python 3",
   "language": "python",
   "name": "python3"
  },
  "language_info": {
   "codemirror_mode": {
    "name": "ipython",
    "version": 3
   },
   "file_extension": ".py",
   "mimetype": "text/x-python",
   "name": "python",
   "nbconvert_exporter": "python",
   "pygments_lexer": "ipython3",
   "version": "3.7.4"
  }
 },
 "nbformat": 4,
 "nbformat_minor": 2
}

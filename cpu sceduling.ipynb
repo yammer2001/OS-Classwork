{
 "cells": [
  {
   "cell_type": "markdown",
   "metadata": {},
   "source": [
    "### FCFS"
   ]
  },
  {
   "cell_type": "code",
   "execution_count": 12,
   "metadata": {},
   "outputs": [],
   "source": [
    "def FCFS(process,n,bt):\n",
    "    waitingtime=[]\n",
    "    turnaround_time=[]\n",
    "    for i in range(n): \n",
    "        if i==0:\n",
    "            waitingtime.append(0)\n",
    "        else:\n",
    "            x=bt[i-1]+ waitingtime[i-1]\n",
    "            waitingtime.append(x)\n",
    "    #print(waitingtime)\n",
    "    for i in range(n):\n",
    "        if i==0:\n",
    "            turnaround_time.append(bt[i])\n",
    "        else:\n",
    "            y=bt[i]+waitingtime[i]\n",
    "            \n",
    "            turnaround_time.append(y)\n",
    "        \n",
    "    #print(turnaaround_time)\n",
    "    \n",
    "    # Below code is simply for making a table\n",
    "    \n",
    "    totaltime_waiting=0\n",
    "    total_turnaround=0\n",
    "    print( \"Processes Burst time \" + \" Waiting time \" + \" Turn around time\")\n",
    "    for i in range(n):\n",
    "        totaltime_waiting=totaltime_waiting + waitingtime[i]\n",
    "        total_turnaround=total_turnaround+turnaround_time[i]\n",
    "        \n",
    "        print(\" \" + str(i+1) + \"\\t\\t\\t\"+str(bt[i])+\"\\t\\t\\t\"+ str(waitingtime[i])+\"\\t\\t\\t\"+ str(turnaround_time[i]))\n",
    "    Average_waiting_time=(totaltime_waiting)/n\n",
    "    Average_turnaround_time=(total_turnaround)/n\n",
    "\n",
    "    print(\"Avg waiting time=\",Average_waiting_time)\n",
    "    print(\"Avg turnaround time=\",Average_turnaround_time)"
   ]
  },
  {
   "cell_type": "code",
   "execution_count": 13,
   "metadata": {},
   "outputs": [
    {
     "name": "stdout",
     "output_type": "stream",
     "text": [
      "Processes Burst time  Waiting time  Turn around time\n",
      " 1\t\t\t4\t\t\t0\t\t\t4\n",
      " 2\t\t\t2\t\t\t4\t\t\t6\n",
      " 3\t\t\t1\t\t\t6\t\t\t7\n",
      " 4\t\t\t7\t\t\t7\t\t\t14\n",
      "Avg waiting time= 4.25\n",
      "Avg turnaround time= 7.75\n"
     ]
    }
   ],
   "source": [
    "process = [1 , 2 , 3 , 4]\n",
    "bt = [4 , 2 , 1 , 7]\n",
    "FCFS(process,4,bt)"
   ]
  },
  {
   "cell_type": "markdown",
   "metadata": {},
   "source": [
    "### SJF"
   ]
  },
  {
   "cell_type": "code",
   "execution_count": 16,
   "metadata": {},
   "outputs": [],
   "source": [
    "def SJF(process,l,bt):\n",
    "    \n",
    "    \n",
    "    for i in range(l):\n",
    "        for j in range(i,l):\n",
    "            if bt[i]>bt[j]:\n",
    "                temp=bt[i]\n",
    "                bt[i]=bt[j]\n",
    "                bt[j]=temp\n",
    "                temp=process[i]\n",
    "                process[i]=process[j]\n",
    "                process[j]=temp\n",
    "    \n",
    "    waitingtime=[]\n",
    "    turnaaround_time=[]\n",
    "    for i in range(l): \n",
    "        if i==0:\n",
    "            waitingtime.append(0)\n",
    "        else:\n",
    "            x=bt[i-1]+ waitingtime[i-1]\n",
    "            waitingtime.append(x)\n",
    "    #print(waitingtime)\n",
    "    for i in range(l):\n",
    "        if i==0:\n",
    "            turnaaround_time.append(bt[i])\n",
    "        else:\n",
    "            y=bt[i]+waitingtime[i]\n",
    "            turnaaround_time.append(y)\n",
    "    #print(turnaaround_time)\n",
    "    \n",
    "    # Below code is simply for making table\n",
    "    \n",
    "    totaltime_waiting=0\n",
    "    total_turnaround=0\n",
    "    print( \"Processes Burst time \" + \" Waiting time \" + \" Turn around time\")\n",
    "    for i in range(l):\n",
    "        totaltime_waiting=totaltime_waiting + waitingtime[i]\n",
    "        total_turnaround=total_turnaround+turnaaround_time[i]\n",
    "        \n",
    "        print(\" \" + str(process[i]) + \"\\t\\t\\t\"+str(bt[i])+\"\\t\\t\\t\"+ str(waitingtime[i])+\"\\t\\t\\t\"+ str(turnaaround_time[i]))\n",
    "    Average_waiting_time=(totaltime_waiting)/l\n",
    "    Average_turnaround_time=(total_turnaround)/l\n",
    "\n",
    "    print(\"Avg waiting time=\",Average_waiting_time)\n",
    "    print(\"Avg turnaround time=\",Average_turnaround_time) "
   ]
  },
  {
   "cell_type": "code",
   "execution_count": 17,
   "metadata": {},
   "outputs": [
    {
     "name": "stdout",
     "output_type": "stream",
     "text": [
      "Processes Burst time  Waiting time  Turn around time\n",
      " 3\t\t\t1\t\t\t0\t\t\t1\n",
      " 2\t\t\t2\t\t\t1\t\t\t3\n",
      " 1\t\t\t4\t\t\t3\t\t\t7\n",
      " 4\t\t\t7\t\t\t7\t\t\t14\n",
      "Avg waiting time= 2.75\n",
      "Avg turnaround time= 6.25\n"
     ]
    }
   ],
   "source": [
    "process = [1 , 2 , 3 , 4]\n",
    "bt = [4 , 2 , 1 , 7]\n",
    "SJF(process,4,bt)"
   ]
  },
  {
   "cell_type": "markdown",
   "metadata": {},
   "source": [
    "### Priority"
   ]
  },
  {
   "cell_type": "code",
   "execution_count": 21,
   "metadata": {},
   "outputs": [],
   "source": [
    "\n",
    "def Priority(p,l,bt,priority):\n",
    "    for i in range(l):\n",
    "        for j in range(i,l):\n",
    "            if priority[i]>priority[j]:\n",
    "                temp=priority[i]\n",
    "                priority[i]=priority[j]\n",
    "                priority[j]=temp\n",
    "                y=p[i]\n",
    "                p[i]=p[j]\n",
    "                p[j]=y\n",
    "                z=bt[i]\n",
    "                bt[i]=bt[j]\n",
    "                bt[j]=z\n",
    "    waitingtime=[]\n",
    "    turnaaround_time=[]\n",
    "    for i in range(l): \n",
    "        if i==0:\n",
    "            waitingtime.append(0)\n",
    "        else:\n",
    "            x=bt[i-1]+ waitingtime[i-1]\n",
    "            waitingtime.append(x)\n",
    "    #print(waitingtime)\n",
    "    for i in range(l):\n",
    "        if i==0:\n",
    "            turnaaround_time.append(bt[i])\n",
    "        else:\n",
    "            y=bt[i]+waitingtime[i]\n",
    "            turnaaround_time.append(y)\n",
    "    #print(turnaaround_time)\n",
    "    \n",
    "    # Below code is for printing table\n",
    "    \n",
    "    totaltime_waiting=0\n",
    "    total_turnaround=0\n",
    "    print( \"Processes Burst time \" + \" Waiting time \" + \" Turn around time\")\n",
    "    for i in range(l):\n",
    "        \n",
    "        \n",
    "        print(\" \" + str(p[i]) + \"\\t\\t\\t\"+str(bt[i])+\"\\t\\t\\t\"+ str(waitingtime[i])+\"\\t\\t\\t\"+ str(turnaaround_time[i]))\n",
    "    Average_waiting_time=(totaltime_waiting)/l\n",
    "    Average_turnaround_time=(total_turnaround)/l\n",
    "\n",
    "    print(\"Avg waiting time=\",Average_waiting_time)\n",
    "    print(\"Avg turnaround time=\",Average_turnaround_time)"
   ]
  },
  {
   "cell_type": "code",
   "execution_count": 22,
   "metadata": {},
   "outputs": [
    {
     "name": "stdout",
     "output_type": "stream",
     "text": [
      "Processes Burst time  Waiting time  Turn around time\n",
      " 2\t\t\t2\t\t\t0\t\t\t2\n",
      " 1\t\t\t4\t\t\t2\t\t\t6\n",
      " 3\t\t\t1\t\t\t6\t\t\t7\n",
      " 4\t\t\t7\t\t\t7\t\t\t14\n",
      "Avg waiting time= 0.0\n",
      "Avg turnaround time= 0.0\n"
     ]
    }
   ],
   "source": [
    "process = [1 , 2 , 3 , 4]\n",
    "bt = [4 , 2 , 1 , 7]\n",
    "priority = [2 , 1 , 3 , 4]\n",
    "Priority(process,4,bt , priority)"
   ]
  },
  {
   "cell_type": "markdown",
   "metadata": {},
   "source": [
    "### Round Robin"
   ]
  },
  {
   "cell_type": "code",
   "execution_count": 23,
   "metadata": {},
   "outputs": [],
   "source": [
    "def Round_robin(processes, n, bt, quantum):  \n",
    "    wt = [0] * n \n",
    "    tat = [0] * n  \n",
    "    rem_bt = [0] * n \n",
    "  \n",
    "    for i in range(n):  \n",
    "        rem_bt[i] = bt[i] \n",
    "    t = 0 \n",
    "    while(1): \n",
    "        done = True\n",
    "        for i in range(n): \n",
    "            if (rem_bt[i] > 0) : \n",
    "                done = False \n",
    "                if (rem_bt[i] > quantum) : \n",
    "                    t += quantum  \n",
    "                    rem_bt[i] -= quantum                       \n",
    "                else:\n",
    "                    t = t + rem_bt[i]  \n",
    "                    wt[i] = t - bt[i]                          \n",
    "                    rem_bt[i] = 0\n",
    "        #print(done)\n",
    "        if (done == True):# checkif every thing is done \n",
    "            break\n",
    "    #turn arount time \n",
    "    for i in range(n): \n",
    "        tat[i] = bt[i] + wt[i]\n",
    "    print(\"Processes    Burst Time     Waiting\",  \n",
    "                     \"Time    Turn-Around Time\") \n",
    "    total_wt = 0\n",
    "    total_tat = 0\n",
    "    for i in range(n): \n",
    "  \n",
    "        total_wt = total_wt + wt[i]  \n",
    "        total_tat = total_tat + tat[i]  \n",
    "        print(\" \", process[i], \"\\t\\t\", bt[i],  \n",
    "              \"\\t\\t\\t\\t\", wt[i], \"\\t\\t\\t\\t\", tat[i]) \n",
    "  \n",
    "    print(\"\\nAverage waiting time = %.5f \"%(total_wt /n) ) \n",
    "    print(\"Average turn around time = %.5f \"% (total_tat / n))  \n",
    "      "
   ]
  },
  {
   "cell_type": "code",
   "execution_count": 25,
   "metadata": {},
   "outputs": [
    {
     "name": "stdout",
     "output_type": "stream",
     "text": [
      "Processes    Burst Time     Waiting Time    Turn-Around Time\n",
      "  2 \t\t 4 \t\t\t\t 5 \t\t\t\t 9\n",
      "  1 \t\t 2 \t\t\t\t 2 \t\t\t\t 4\n",
      "  3 \t\t 1 \t\t\t\t 4 \t\t\t\t 5\n",
      "  4 \t\t 7 \t\t\t\t 7 \t\t\t\t 14\n",
      "\n",
      "Average waiting time = 4.50000 \n",
      "Average turn around time = 8.00000 \n"
     ]
    }
   ],
   "source": [
    "processes = [1 , 2 , 3 , 4]\n",
    "bt = [4 , 2 , 1 , 7]\n",
    "Round_robin(processes,4,bt , 2)"
   ]
  },
  {
   "cell_type": "code",
   "execution_count": null,
   "metadata": {},
   "outputs": [],
   "source": []
  }
 ],
 "metadata": {
  "kernelspec": {
   "display_name": "Python 3",
   "language": "python",
   "name": "python3"
  },
  "language_info": {
   "codemirror_mode": {
    "name": "ipython",
    "version": 3
   },
   "file_extension": ".py",
   "mimetype": "text/x-python",
   "name": "python",
   "nbconvert_exporter": "python",
   "pygments_lexer": "ipython3",
   "version": "3.7.4"
  }
 },
 "nbformat": 4,
 "nbformat_minor": 2
}
